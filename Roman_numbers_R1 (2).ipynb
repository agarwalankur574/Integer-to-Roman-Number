{
 "cells": [
  {
   "cell_type": "markdown",
   "id": "1d1eb777",
   "metadata": {},
   "source": [
    "# Assignment : Integer to Roman "
   ]
  },
  {
   "cell_type": "raw",
   "id": "f10b2434",
   "metadata": {},
   "source": [
    "SYMBOL       VALUE\n",
    "  I            1\n",
    "  IV           4\n",
    "  V            5\n",
    "  IX           9\n",
    "  X            10\n",
    "  XL           40\n",
    "  L            50\n",
    "  XC           90\n",
    "  C            100\n",
    "  CD           400\n",
    "  D            500\n",
    "  CM           900 \n",
    "  M            1000"
   ]
  },
  {
   "cell_type": "code",
   "execution_count": 1,
   "id": "bda48901",
   "metadata": {},
   "outputs": [],
   "source": [
    "# this function is limited to find Roman numbers upto Integer Value 5000.\n",
    "\n",
    "def Roman_num(num):\n",
    "    # Creating two list one for the Integers and other for Roman Numbers\n",
    "    integer_num = [1,4,5,9,10,40,50,90,100,400,500,900,1000]\n",
    "    roman_letter = [\"I\",\"IV\",\"V\",\"IX\",\"X\",\"XL\",\"L\",\"LC\",\"C\",\"CD\",\"D\",\"DM\",\"M\"]\n",
    "    # Creating a variable for storing the Resulting Roman Symbols \n",
    "    roman_num = \"\"\n",
    "    \n",
    "    # want to start my index from the last element in the integer list\n",
    "    i = len(integer_num)-1\n",
    "    \n",
    "    # I want to stay in the while loop untill num is not zero.\n",
    "    while num != 0:\n",
    "    # if the integer number is less than or equal to the value of num, execute the below loop\n",
    "        if integer_num[i] <= num:\n",
    "            # adding an respective Roman symbol into (roman_num) variable created by us for each iteration\n",
    "            roman_num += roman_letter[i]\n",
    "            # now i am decrementing the value of num by the respective integer value\n",
    "            num = num - integer_num[i]\n",
    "            # the condition will pass untill my integer number is greater than the value of num\n",
    "            pass\n",
    "        # decreamenting the i index when the remainder of num value is not zero\n",
    "        else:\n",
    "            i -= 1\n",
    "    # after finishing the above loop return statement will provide the total Roman Symbols required to make num value zero       \n",
    "    return roman_num\n",
    "               \n"
   ]
  },
  {
   "cell_type": "markdown",
   "id": "1fcb4f28",
   "metadata": {},
   "source": [
    "# Time Complexity"
   ]
  },
  {
   "cell_type": "markdown",
   "id": "baeba5b0",
   "metadata": {},
   "source": [
    "It is O(N) because the number of iterations depends on the value of num O(N) time complexity where N is the value of num."
   ]
  },
  {
   "cell_type": "code",
   "execution_count": null,
   "id": "23d5288d",
   "metadata": {},
   "outputs": [],
   "source": []
  },
  {
   "cell_type": "markdown",
   "id": "824a5612",
   "metadata": {},
   "source": [
    "# Checking above function"
   ]
  },
  {
   "cell_type": "code",
   "execution_count": 2,
   "id": "9574c979",
   "metadata": {},
   "outputs": [
    {
     "data": {
      "text/plain": [
       "'MMMCDLVI'"
      ]
     },
     "execution_count": 2,
     "metadata": {},
     "output_type": "execute_result"
    }
   ],
   "source": [
    "Roman_num(3456)"
   ]
  }
 ],
 "metadata": {
  "kernelspec": {
   "display_name": "Python 3.9.12 ('base')",
   "language": "python",
   "name": "python3"
  },
  "language_info": {
   "codemirror_mode": {
    "name": "ipython",
    "version": 3
   },
   "file_extension": ".py",
   "mimetype": "text/x-python",
   "name": "python",
   "nbconvert_exporter": "python",
   "pygments_lexer": "ipython3",
   "version": "3.9.12"
  },
  "vscode": {
   "interpreter": {
    "hash": "1c540d9386886feadf753beb3f7b89f64d7ae77b47a608440878b8eec5eff01d"
   }
  }
 },
 "nbformat": 4,
 "nbformat_minor": 5
}
